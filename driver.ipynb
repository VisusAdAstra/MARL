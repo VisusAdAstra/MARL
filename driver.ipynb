{
 "cells": [
  {
   "cell_type": "code",
   "execution_count": null,
   "id": "ed7497d8",
   "metadata": {},
   "outputs": [],
   "source": [
    "! pip install git+https://github.com/Rohan138/marl-baselines3\n",
    "! pip install -e ."
   ]
  },
  {
   "cell_type": "code",
   "execution_count": null,
   "id": "ebfcf08a",
   "metadata": {},
   "outputs": [],
   "source": [
    "! python3 run_scripts/sb3_independent.py --env harvest --num-agents 5\n",
    "! python3 run_scripts/sb3_independent.py --env harvest --num-agents 3\n",
    "! python3 run_scripts/sb3_independent.py --env harvest --num-agents 5 --inequity-averse-reward=True --alpha=5.0 --beta=0.05\n",
    "! python3 run_scripts/sb3_independent.py --env harvest --num-agents 3 --inequity-averse-reward=True --alpha=5.0 --beta=0.05"
   ]
  },
  {
   "cell_type": "code",
   "execution_count": null,
   "id": "ee94feff",
   "metadata": {},
   "outputs": [],
   "source": [
    "! python3 run_scripts/sb3_independent.py --env harvest --num-agents 3 --total-timesteps 18e6 --exp-name \"base harvest 3 agents\"\n",
    "! python3 run_scripts/sb3_independent.py --env harvest --num-agents 3 --total-timesteps 5e6 --exp-name \"base harvest 3 agents\"\n",
    "! python3 run_scripts/sb3_independent.py --env harvest --num-agents 5 --total-timesteps 5e6 --exp-name \"base harvest 5 agents\"\n",
    "! python3 run_scripts/sb3_independent.py --env harvest --num-agents 5 --total-timesteps 5e6 --exp-name \"base harvest 5 agents inequity\" --inequity-averse-reward=True --alpha=5.0 --beta=0.05"
   ]
  },
  {
   "cell_type": "code",
   "execution_count": null,
   "id": "7f046407",
   "metadata": {},
   "outputs": [],
   "source": [
    "! python3 run_scripts/sb3_independent.py --env harvest --num-agents 5 --exp-name \"harvest_5_agents_test\" \\\n",
    "--inequity-averse-reward=True --alpha=5.0 --beta=0.05 --total-timesteps=2e8 --train=True\n",
    "! python3 run_scripts/sb3_independent.py --env harvest --num-agents 5 --exp-name \"harvest_5_agents_inequity\" \\\n",
    "--inequity-averse-reward=True --alpha=5.0 --beta=0.05 --total-timesteps=2e8 --train=True\n",
    "! python3 run_scripts/sb3_independent.py --env harvest --num-agents 5 --exp-name \"harvest_ppo_collective_reward_sb3\" \\\n",
    "--use-collective-reward=True --total-timesteps=1e6 --num-envs=32 \n",
    "! nvidia-smi && (nvidia-smi |tr -s ' '|grep -Eo \"| [0123456789]+ N/A N/A [0-9]{3,} .*\"|awk -F' ' '{system(\"s=$(cat /proc/\"$4\"/cmdline| tr \\\"\\\\0\\\" \\\" \\\");u=$(ps -o uname= -p \"$4\");echo \"$1\"sep\"$4\"sep$u sep\"$7\"sep$s\" ) }'|sed 's/sep/\\t/g')\n",
    "! tensorboard --logdir . --host \"10.10.10.122\" --port 8888\n",
    "! tensorboard --logdir ./results/sb3/ppo_independent"
   ]
  },
  {
   "cell_type": "code",
   "execution_count": null,
   "id": "3116a7ef",
   "metadata": {},
   "outputs": [],
   "source": [
    "# cleanup schelling\n",
    "! nohup time python run_scripts/sb3_independent.py --env cleanup --exp-name \"cleanup_ppo_selfish_agent_sb3\" \\\n",
    "--num-agents 5 --total-timesteps=2e8 --num-envs=64 \\\n",
    "--device=\"cuda:1\" --train=True > logs/cleanup_ppo_selfish_agent_sb3.txt 2>&1 &\n",
    "! nohup time python run_scripts/sb3_independent.py --env cleanup --exp-name \"cleanup_ppo_collective_reward_sb3\" \\\n",
    "--num-agents 5 --use-collective-reward=True --total-timesteps=2e8 --num-envs=32 \\\n",
    "--device=\"cuda:1\" --train=True > logs/cleanup_ppo_collective_reward_sb3.txt 2>&1 &\n",
    "! nohup time python run_scripts/sb3_independent.py --env cleanup --exp-name \"cleanup_ppo_inequity_averse_sb3_aug\" \\\n",
    "--num-agents 5 --inequity-averse-reward=True --alpha=0.5 --beta=0.05 --num-inequity=5 --total-timesteps=4e8 --num-envs=32 \\\n",
    "--device=\"cuda:2\" --train=True > logs/cleanup_ppo_inequity_averse_sb3_aug.txt 2>&1 &\n",
    "! nohup time python run_scripts/sb3_independent.py --env cleanup --exp-name \"cleanup_ppo_inequity_averse_sb3_aug2\" \\\n",
    "--num-agents 5 --inequity-averse-reward=True --alpha=0.0 --beta=0.05 --num-inequity=5 --total-timesteps=4e8 --num-envs=32 \\\n",
    "--device=\"cuda:3\" --train=True > logs/cleanup_ppo_inequity_averse_sb3_aug.txt 2>&1 &\n",
    "! nohup time python run_scripts/sb3_independent.py --env cleanup --exp-name \"cleanup_ppo_inequity_averse_sb3\" \\\n",
    "--num-agents 5 --inequity-averse-reward=True --alpha=5.0 --beta=0.05 --num-inequity=5 --total-timesteps=4e8 --num-envs=32 \\\n",
    "--device=\"cuda:2\" --train=True > logs/cleanup_ppo_inequity_averse_sb3.txt 2>&1 &\n",
    "! nohup time python run_scripts/sb3_independent.py --env cleanup --exp-name \"cleanup_ppo_inequity_averse_3_sb3\" \\\n",
    "--num-agents 5 --inequity-averse-reward=True --alpha=5.0 --beta=0.05 --num-inequity=3 --total-timesteps=2e8 --num-envs=32 \\\n",
    "--device=\"cuda:2\" --train=True > logs/cleanup_ppo_inequity_averse_3_sb3.txt 2>&1 &\n",
    "! nohup time python run_scripts/sb3_independent.py --env cleanup --exp-name \"cleanup_ppo_inequity_averse_1_sb3\" \\\n",
    "--num-agents 5 --inequity-averse-reward=True --alpha=0.0 --beta=0.05 --num-inequity=1 --total-timesteps=2e8 --num-envs=32 \\\n",
    "--device=\"cuda:3\" --train=True > logs/cleanup_ppo_inequity_averse_1_sb3.txt 2>&1 &\n",
    "\n",
    "# harvest schelling\n",
    "! nohup time python run_scripts/sb3_independent.py --env harvest --exp-name \"harvest_ppo_selfish_agent_sb3\" \\\n",
    "--num-agents 5 --total-timesteps=1e8 --num-envs=64 \\\n",
    "--device=\"cuda:1\" --train=True > logs/harvest_ppo_selfish_agent_sb3.txt 2>&1 &\n",
    "! nohup time python run_scripts/sb3_independent.py --env harvest --exp-name \"harvest_ppo_collective_reward_sb3\" \\\n",
    "--num-agents 5 --use-collective-reward=True --total-timesteps=1e8 --num-envs=32 \\\n",
    "--device=\"cuda:1\" --train=True > logs/harvest_ppo_collective_reward_sb3.txt 2>&1 &\n",
    "! nohup time python run_scripts/sb3_independent.py --env harvest --exp-name \"harvest_ppo_inequity_averse_sb3_aug\" \\\n",
    "--num-agents 5 --inequity-averse-reward=True --alpha=0.5 --beta=0.05 --num-inequity=5 --total-timesteps=2e8 --num-envs=32 \\\n",
    "--device=\"cuda:2\" --train=True > logs/harvest_ppo_inequity_averse_sb3_aug.txt 2>&1 &\n",
    "! nohup time python run_scripts/sb3_independent.py --env harvest --exp-name \"harvest_ppo_inequity_averse_sb3\" \\\n",
    "--num-agents 5 --inequity-averse-reward=True --alpha=5.0 --beta=0.05 --num-inequity=5 --total-timesteps=2e8 --num-envs=32 \\\n",
    "--device=\"cuda:2\" --train=True > logs/harvest_ppo_inequity_averse_sb3.txt 2>&1 &\n",
    "! nohup time python run_scripts/sb3_independent.py --env harvest --exp-name \"harvest_ppo_inequity_averse_3_sb3\" \\\n",
    "--num-agents 5 --inequity-averse-reward=True --alpha=5.0 --beta=0.05 --num-inequity=3 --total-timesteps=1e8 --num-envs=32 \\\n",
    "--device=\"cuda:3\" --train=True > logs/harvest_ppo_inequity_averse_3_sb3.txt 2>&1 &\n",
    "! nohup time python run_scripts/sb3_independent.py --env harvest --exp-name \"harvest_ppo_inequity_averse_1_sb3\" \\\n",
    "--num-agents 5 --inequity-averse-reward=True --alpha=0.5 --beta=0.05 --num-inequity=1 --total-timesteps=1e8 --num-envs=32 \\\n",
    "--device=\"cuda:3\" --train=True > logs/harvest_ppo_inequity_averse_1_sb3.txt 2>&1 &"
   ]
  }
 ],
 "metadata": {
  "language_info": {
   "name": "python"
  }
 },
 "nbformat": 4,
 "nbformat_minor": 5
}
