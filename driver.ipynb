{
 "cells": [
  {
   "cell_type": "code",
   "execution_count": null,
   "metadata": {
    "vscode": {
     "languageId": "plaintext"
    }
   },
   "outputs": [],
   "source": [
    "! pip install git+https://github.com/Rohan138/marl-baselines3\n",
    "! pip install -e ."
   ]
  },
  {
   "cell_type": "code",
   "execution_count": null,
   "metadata": {
    "vscode": {
     "languageId": "plaintext"
    }
   },
   "outputs": [],
   "source": [
    "! python3 run_scripts/sb3_independent.py --env harvest --num-agents 5\n",
    "! python3 run_scripts/sb3_independent.py --env harvest --num-agents 3\n",
    "! python3 run_scripts/sb3_independent.py --env harvest --num-agents 5 --inequity-averse-reward=True --alpha=5.0 --beta=0.05\n",
    "! python3 run_scripts/sb3_independent.py --env harvest --num-agents 3 --inequity-averse-reward=True --alpha=5.0 --beta=0.05"
   ]
  },
  {
   "cell_type": "code",
   "execution_count": null,
   "metadata": {
    "vscode": {
     "languageId": "plaintext"
    }
   },
   "outputs": [],
   "source": [
    "! python3 run_scripts/sb3_independent.py --env harvest --num-agents 3 --exp-name \"base harvest 3 agents\""
   ]
  }
 ],
 "metadata": {
  "language_info": {
   "name": "python"
  }
 },
 "nbformat": 4,
 "nbformat_minor": 2
}
