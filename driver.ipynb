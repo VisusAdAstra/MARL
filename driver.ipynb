{
 "cells": [
  {
   "cell_type": "code",
   "execution_count": null,
   "id": "ed7497d8",
   "metadata": {},
   "outputs": [],
   "source": [
    "! pip install git+https://github.com/Rohan138/marl-baselines3\n",
    "! pip install -e ."
   ]
  },
  {
   "cell_type": "code",
   "execution_count": null,
   "id": "ebfcf08a",
   "metadata": {},
   "outputs": [],
   "source": [
    "! python3 run_scripts/sb3_independent.py --env harvest --num-agents 5\n",
    "! python3 run_scripts/sb3_independent.py --env harvest --num-agents 3\n",
    "! python3 run_scripts/sb3_independent.py --env harvest --num-agents 5 --inequity-averse-reward=True --alpha=5.0 --beta=0.05\n",
    "! python3 run_scripts/sb3_independent.py --env harvest --num-agents 3 --inequity-averse-reward=True --alpha=5.0 --beta=0.05"
   ]
  },
  {
   "cell_type": "code",
   "execution_count": null,
   "id": "ee94feff",
   "metadata": {},
   "outputs": [],
   "source": [
    "! python3 run_scripts/sb3_independent.py --env harvest --num-agents 3 --total-timesteps 18e6 --exp-name \"base harvest 3 agents\"\n",
    "! python3 run_scripts/sb3_independent.py --env harvest --num-agents 3 --total-timesteps 5e6 --exp-name \"base harvest 3 agents\"\n",
    "! python3 run_scripts/sb3_independent.py --env harvest --num-agents 5 --total-timesteps 5e6 --exp-name \"base harvest 5 agents\"\n",
    "! python3 run_scripts/sb3_independent.py --env harvest --num-agents 5 --total-timesteps 5e6 --exp-name \"base harvest 5 agents inequity\" --inequity-averse-reward=True --alpha=5.0 --beta=0.05"
   ]
  },
  {
   "cell_type": "code",
   "execution_count": null,
   "id": "7f046407",
   "metadata": {},
   "outputs": [],
   "source": [
    "! python3 run_scripts/sb3_independent.py --env harvest --num-agents 5 --exp-name \"harvest_5_agents_test\" \\\n",
    "--inequity-averse-reward=True --alpha=5.0 --beta=0.05 --total-timesteps=1e8 --train=True\n",
    "! python3 run_scripts/sb3_independent.py --env harvest --num-agents 5 --exp-name \"harvest_5_agents_inequity\" \\\n",
    "--inequity-averse-reward=True --alpha=5.0 --beta=0.05 --total-timesteps=1e8 --train=True"
   ]
  },
  {
   "cell_type": "code",
   "execution_count": null,
   "id": "3116a7ef",
   "metadata": {},
   "outputs": [],
   "source": [
    "# cleanup schelling\n",
    "! nohup time python run_scripts/sb3_independent.py --env cleanup --exp-name \"cleanup_ppo_collective_reward_sb3\" \\\n",
    "--num-agents 5 --use-collective-reward=True --alpha=5.0 --beta=0.05 --total-timesteps=1e8 --num-envs=32 \\\n",
    "--device=\"cuda:1\" --train=True > logs/cleanup_ppo_collective_reward_sb3.txt 2>&1 &\n",
    "! nohup time python run_scripts/sb3_independent.py --env cleanup --exp-name \"cleanup_ppo_inequity_averse_sb3\" \\\n",
    "--num-agents 5 --inequity-averse-reward=True --alpha=5.0 --beta=0.05 --total-timesteps=1e8 --num-envs=32 \\\n",
    "--device=\"cuda:2\" --train=True > logs/cleanup_ppo_inequity_averse_sb3.txt 2>&1 &\n",
    "! nohup time python run_scripts/sb3_independent.py --env cleanup --exp-name \"cleanup_ppo_inequity_averse_4_sb3\" \\\n",
    "--num-agents 5 --inequity-averse-reward=True --alpha=5.0 --beta=0.05 --num-inequity=4 --total-timesteps=1e8 --num-envs=32 \\\n",
    "--device=\"cuda:2\" --train=True > logs/cleanup_ppo_inequity_averse_4_sb3.txt 2>&1 &\n",
    "! nohup time python run_scripts/sb3_independent.py --env cleanup --exp-name \"cleanup_ppo_inequity_averse_3_sb3\" \\\n",
    "--num-agents 5 --inequity-averse-reward=True --alpha=5.0 --beta=0.05 --num-inequity=3 --total-timesteps=1e8 --num-envs=32 \\\n",
    "--device=\"cuda:2\" --train=True > logs/cleanup_ppo_inequity_averse_3_sb3.txt 2>&1 &\n",
    "! nohup time python run_scripts/sb3_independent.py --env cleanup --exp-name \"cleanup_ppo_inequity_averse_2_sb3\" \\\n",
    "--num-agents 5 --inequity-averse-reward=True --alpha=5.0 --beta=0.05 --num-inequity=2 --total-timesteps=1e8 --num-envs=32 \\\n",
    "--device=\"cuda:2\" --train=True > logs/cleanup_ppo_inequity_averse_2_sb3.txt 2>&1 &\n",
    "\n",
    "# harvest schelling\n",
    "! nohup time python run_scripts/sb3_independent.py --env harvest --exp-name \"harvest_ppo_collective_reward_sb3\" \\\n",
    "--num-agents 5 --use-collective-reward=True --alpha=5.0 --beta=0.05 --total-timesteps=1e8 --num-envs=32 \\\n",
    "--device=\"cuda:1\" --train=True > logs/harvest_ppo_collective_reward_sb3.txt 2>&1 &\n",
    "! nohup time python run_scripts/sb3_independent.py --env harvest --exp-name \"harvest_ppo_inequity_averse_sb3\" \\\n",
    "--num-agents 5 --inequity-averse-reward=True --alpha=5.0 --beta=0.05 --total-timesteps=1e8 --num-envs=32 \\\n",
    "--device=\"cuda:3\" --train=True > logs/harvest_ppo_inequity_averse_sb3.txt 2>&1 &\n",
    "! nohup time python run_scripts/sb3_independent.py --env harvest --exp-name \"harvest_ppo_inequity_averse_4_sb3\" \\\n",
    "--num-agents 5 --inequity-averse-reward=True --alpha=5.0 --beta=0.05 --num-inequity=4 --total-timesteps=1e8 --num-envs=32 \\\n",
    "--device=\"cuda:3\" --train=True > logs/harvest_ppo_inequity_averse_4_sb3.txt 2>&1 &\n",
    "! nohup time python run_scripts/sb3_independent.py --env harvest --exp-name \"harvest_ppo_inequity_averse_3_sb3\" \\\n",
    "--num-agents 5 --inequity-averse-reward=True --alpha=5.0 --beta=0.05 --num-inequity=3 --total-timesteps=1e8 --num-envs=32 \\\n",
    "--device=\"cuda:3\" --train=True > logs/harvest_ppo_inequity_averse_3_sb3.txt 2>&1 &\n",
    "! nohup time python run_scripts/sb3_independent.py --env harvest --exp-name \"harvest_ppo_inequity_averse_2_sb3\" \\\n",
    "--num-agents 5 --inequity-averse-reward=True --alpha=5.0 --beta=0.05 --num-inequity=2 --total-timesteps=1e8 --num-envs=32 \\\n",
    "--device=\"cuda:3\" --train=True > logs/harvest_ppo_inequity_averse_2_sb3.txt 2>&1 &"
   ]
  }
 ],
 "metadata": {
  "language_info": {
   "name": "python"
  }
 },
 "nbformat": 4,
 "nbformat_minor": 5
}
