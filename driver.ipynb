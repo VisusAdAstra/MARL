{
 "cells": [
  {
   "cell_type": "code",
   "execution_count": null,
   "metadata": {
    "vscode": {
     "languageId": "plaintext"
    }
   },
   "outputs": [],
   "source": [
    "! pip install git+https://github.com/Rohan138/marl-baselines3\n",
    "! pip install -e ."
   ]
  },
  {
   "cell_type": "code",
   "execution_count": null,
   "metadata": {
    "vscode": {
     "languageId": "plaintext"
    }
   },
   "outputs": [],
   "source": [
    "! python3 run_scripts/sb3_independent.py --env harvest --num-agents 5\n",
    "! python3 run_scripts/sb3_independent.py --env harvest --num-agents 3\n",
    "! python3 run_scripts/sb3_independent.py --env harvest --num-agents 5 --inequity-averse-reward=True --alpha=5.0 --beta=0.05\n",
    "! python3 run_scripts/sb3_independent.py --env harvest --num-agents 3 --inequity-averse-reward=True --alpha=5.0 --beta=0.05"
   ]
  },
  {
   "cell_type": "code",
   "execution_count": null,
   "metadata": {
    "vscode": {
     "languageId": "plaintext"
    }
   },
   "outputs": [],
   "source": [
    "! python3 run_scripts/sb3_independent.py --env harvest --num-agents 3 --total-timesteps 18e6 --exp-name \"base harvest 3 agents\"\n",
    "! python3 run_scripts/sb3_independent.py --env harvest --num-agents 3 --total-timesteps 5e6 --exp-name \"base harvest 3 agents\"\n",
    "! python3 run_scripts/sb3_independent.py --env harvest --num-agents 5 --total-timesteps 5e6 --exp-name \"base harvest 5 agents\"\n",
    "! python3 run_scripts/sb3_independent.py --env harvest --num-agents 5 --total-timesteps 5e6 --exp-name \"base harvest 5 agents inequity\" --inequity-averse-reward=True --alpha=5.0 --beta=0.05"
   ]
  },
  {
   "cell_type": "code",
   "execution_count": null,
   "metadata": {
    "vscode": {
     "languageId": "plaintext"
    }
   },
   "outputs": [],
   "source": [
    "! python3 run_scripts/sb3_independent.py --env harvest --num-agents 5 --exp-name \"base harvest 5 agents inequity\" \\\n",
    "--inequity-averse-reward=True --alpha=5.0 --beta=0.05 --total-timesteps=1e8 --train=True"
   ]
  }
 ],
 "metadata": {
  "language_info": {
   "name": "python"
  }
 },
 "nbformat": 4,
 "nbformat_minor": 2
}
