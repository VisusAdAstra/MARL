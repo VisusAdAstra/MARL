{
 "cells": [
  {
   "cell_type": "markdown",
   "metadata": {},
   "source": [
    "## Tested"
   ]
  },
  {
   "cell_type": "code",
   "execution_count": null,
   "metadata": {},
   "outputs": [],
   "source": [
    "# Train\n",
    "# cleanup\n",
    "! python main.py --exp_name=\"clean_up_ppo_selfish_agent\" --use_rnn --device=\"cuda:0\" --batch_size=2 --mini_batch_size=1 \\\n",
    "--train_inner_steps=512 --train_episode=512 --env_parallel_num=16\n",
    "! python main.py --exp_name=\"clean_up_ppo_collective_reward\" --use_rnn --device=\"cuda:0\" --batch_size=2 --mini_batch_size=1 \\\n",
    "--train_inner_steps=512 --train_episode=1024 --env_parallel_num=16 --use_collective_reward\n",
    "! python main.py --exp_name=\"clean_up_ppo_inequity_averse_reward\" --use_rnn --device=\"cuda:0\" --batch_size=2 --mini_batch_size=1 \\\n",
    "--train_inner_steps=512 --train_episode=512 --env_parallel_num=16 --alpha=5.0 --beta=0.05 --use_inequity_averse_reward\n",
    "\n",
    "# harvest\n",
    "! python main.py --exp_name=\"harvest_ppo_selfish_agent\" --use_rnn --device=\"cuda:0\" --batch_size=2 --mini_batch_size=1 \\\n",
    "--train_inner_steps=512 --train_episode=512 --env_parallel_num=16\n",
    "! python main.py --exp_name=\"harvest_ppo_collective_reward\" --use_rnn --device=\"cuda:0\" --batch_size=2 --mini_batch_size=1 \\\n",
    "--train_inner_steps=512 --train_episode=512 --env_parallel_num=16 --use_collective_reward\n",
    "! python main.py --exp_name=\"harvest_ppo_inequity_averse_reward\" --use_rnn --device=\"cuda:0\" --batch_size=2 --mini_batch_size=1 \\\n",
    "--train_inner_steps=512 --train_episode=512 --env_parallel_num=16 --alpha=5.0 --beta=0.05 --use_inequity_averse_reward\n",
    "\n",
    "# Evaluate\n",
    "! python main.py --exp_name=\"clean_up_ppo_selfish_agent\" --use_rnn --device=\"cuda:0\" --batch_size=2 --mini_batch_size=1 \\\n",
    "--train_inner_steps=512 --train_episode=512 --env_parallel_num=16 --model_name \"episode_512\"\n",
    "! python main.py --exp_name=\"clean_up_ppo_collective_reward\" --use_rnn --device=\"cuda:0\" --batch_size=2 --mini_batch_size=1 \\\n",
    "--train_inner_steps=512 --env_parallel_num=16 --use_collective_reward --model_name \"episode_896\"\n",
    "! python main.py --exp_name=\"clean_up_ppo_inequity_averse_reward\" --use_rnn --device=\"cuda:0\" --batch_size=2 --mini_batch_size=1 \\\n",
    "--train_inner_steps=512 --train_episode=512 --env_parallel_num=16 --alpha=5.0 --beta=0.05 --use_inequity_averse_reward --model_name \"episode_512\"\n"
   ]
  },
  {
   "cell_type": "markdown",
   "metadata": {},
   "source": [
    "## TBD"
   ]
  },
  {
   "cell_type": "code",
   "execution_count": null,
   "metadata": {},
   "outputs": [],
   "source": [
    "# cleanup shelling\n",
    "! python main.py --exp_name=\"clean_up_ppo_inequity_4_averse_reward\" --use_rnn --device=\"cuda:0\" --batch_size=2 --mini_batch_size=1 \\\n",
    "--train_inner_steps=512 --train_episode=512 --env_parallel_num=32 --alpha=5.0 --beta=0.05 --num_inequity=4 --use_inequity_averse_reward\n",
    "! python main.py --exp_name=\"clean_up_ppo_inequity_3_averse_reward\" --use_rnn --device=\"cuda:0\" --batch_size=2 --mini_batch_size=1 \\\n",
    "--train_inner_steps=512 --train_episode=512 --env_parallel_num=32 --alpha=5.0 --beta=0.05 --num_inequity=3 --use_inequity_averse_reward\n",
    "! python main.py --exp_name=\"clean_up_ppo_inequity_2_averse_reward\" --use_rnn --device=\"cuda:0\" --batch_size=2 --mini_batch_size=1 \\\n",
    "--train_inner_steps=512 --train_episode=512 --env_parallel_num=32 --alpha=5.0 --beta=0.05 --num_inequity=2 --use_inequity_averse_reward\n",
    "\n",
    "# harvest shelling\n",
    "! python main.py --exp_name=\"harvest_ppo_inequity_4_averse_reward\" --use_rnn --device=\"cuda:0\" --batch_size=2 --mini_batch_size=1 \\\n",
    "--train_inner_steps=512 --train_episode=512 --env_parallel_num=32 --alpha=5.0 --beta=0.05 --num_inequity=4 --use_inequity_averse_reward\n",
    "! python main.py --exp_name=\"harvest_ppo_inequity_3_averse_reward\" --use_rnn --device=\"cuda:0\" --batch_size=2 --mini_batch_size=1 \\\n",
    "--train_inner_steps=512 --train_episode=512 --env_parallel_num=32 --alpha=5.0 --beta=0.05 --num_inequity=3 --use_inequity_averse_reward\n",
    "! python main.py --exp_name=\"harvest_ppo_inequity_2_averse_reward\" --use_rnn --device=\"cuda:0\" --batch_size=2 --mini_batch_size=1 \\\n",
    "--train_inner_steps=512 --train_episode=512 --env_parallel_num=32 --alpha=5.0 --beta=0.05 --num_inequity=2 --use_inequity_averse_reward"
   ]
  }
 ],
 "metadata": {
  "kernelspec": {
   "display_name": "ift6390",
   "language": "python",
   "name": "python3"
  },
  "language_info": {
   "codemirror_mode": {
    "name": "ipython",
    "version": 3
   },
   "file_extension": ".py",
   "mimetype": "text/x-python",
   "name": "python",
   "nbconvert_exporter": "python",
   "pygments_lexer": "ipython3",
   "version": "3.9.18"
  }
 },
 "nbformat": 4,
 "nbformat_minor": 2
}
