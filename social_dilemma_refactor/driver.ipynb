{
 "cells": [
  {
   "cell_type": "markdown",
   "metadata": {},
   "source": [
    "## Test"
   ]
  },
  {
   "cell_type": "code",
   "execution_count": null,
   "metadata": {},
   "outputs": [],
   "source": [
    "# Train\n",
    "# cleanup\n",
    "! python main.py --exp_name=\"clean_up_ppo_selfish_agent\" --use_rnn --device=\"cuda:0\" --batch_size=2 --mini_batch_size=1 \\\n",
    "--train_inner_steps=512 --train_episode=1024 --env_parallel_num=16\n",
    "! python main.py --exp_name=\"clean_up_ppo_collective_reward\" --use_rnn --device=\"cuda:0\" --batch_size=2 --mini_batch_size=1 \\\n",
    "--train_inner_steps=512 --train_episode=1024 --env_parallel_num=16 --use_collective_reward\n",
    "! python main.py --exp_name=\"clean_up_ppo_inequity_averse_reward\" --use_rnn --device=\"cuda:0\" --batch_size=2 --mini_batch_size=1 \\\n",
    "--train_inner_steps=512 --train_episode=1024 --env_parallel_num=16 --alpha=5.0 --beta=0.05 --use_inequity_averse_reward\n",
    "\n",
    "# harvest\n",
    "! python main.py --exp_name=\"harvest_ppo_selfish_agent\" --use_rnn --device=\"cuda:0\" --batch_size=2 --mini_batch_size=1 \\\n",
    "--train_inner_steps=512 --train_episode=1024 --env_parallel_num=16\n",
    "! python main.py --exp_name=\"harvest_ppo_collective_reward\" --use_rnn --device=\"cuda:0\" --batch_size=2 --mini_batch_size=1 \\\n",
    "--train_inner_steps=512 --train_episode=1024 --env_parallel_num=16 --use_collective_reward\n",
    "! python main.py --exp_name=\"harvest_ppo_inequity_averse_reward\" --use_rnn --device=\"cuda:0\" --batch_size=2 --mini_batch_size=1 \\\n",
    "--train_inner_steps=512 --train_episode=1024 --env_parallel_num=16 --alpha=5.0 --beta=0.05 --use_inequity_averse_reward\n",
    "\n",
    "# Evaluate\n",
    "! python main.py --exp_name=\"clean_up_ppo_selfish_agent\" --use_rnn --device=\"cuda:0\" --batch_size=2 --mini_batch_size=1 \\\n",
    "--train_inner_steps=512 --train_episode=16 --env_parallel_num=16 --model_name \"episode_512\"\n",
    "! python main.py --exp_name=\"clean_up_ppo_collective_reward\" --use_rnn --device=\"cuda:0\" --batch_size=2 --mini_batch_size=1 \\\n",
    "--train_inner_steps=512 --train_episode=4 --env_parallel_num=16 --use_collective_reward --model_name \"episode_896\"\n",
    "! python main.py --exp_name=\"clean_up_ppo_inequity_averse_reward\" --use_rnn --device=\"cuda:0\" --batch_size=2 --mini_batch_size=1 \\\n",
    "--train_inner_steps=512 --train_episode=16 --env_parallel_num=16 --alpha=5.0 --beta=0.05 --use_inequity_averse_reward --model_name \"episode_512\"\n"
   ]
  },
  {
   "cell_type": "markdown",
   "metadata": {},
   "source": [
    "## Inequity"
   ]
  },
  {
   "cell_type": "code",
   "execution_count": null,
   "metadata": {},
   "outputs": [],
   "source": [
    "# cleanup schelling\n",
    "! python main.py --exp_name=\"clean_up_ppo_inequity_4_averse_reward\" --use_rnn --device=\"cuda:0\" --batch_size=2 --mini_batch_size=1 \\\n",
    "--train_inner_steps=512 --train_episode=1024 --env_parallel_num=32 --alpha=5.0 --beta=0.05 --num_inequity=4 --use_inequity_averse_reward\n",
    "! python main.py --exp_name=\"clean_up_ppo_inequity_3_averse_reward\" --use_rnn --device=\"cuda:0\" --batch_size=2 --mini_batch_size=1 \\\n",
    "--train_inner_steps=512 --train_episode=1024 --env_parallel_num=32 --alpha=5.0 --beta=0.05 --num_inequity=3 --use_inequity_averse_reward\n",
    "! python main.py --exp_name=\"clean_up_ppo_inequity_2_averse_reward\" --use_rnn --device=\"cuda:0\" --batch_size=2 --mini_batch_size=1 \\\n",
    "--train_inner_steps=512 --train_episode=1024 --env_parallel_num=32 --alpha=5.0 --beta=0.05 --num_inequity=2 --use_inequity_averse_reward\n",
    "\n",
    "# harvest schelling\n",
    "! python main.py --exp_name=\"harvest_ppo_inequity_4_averse_reward\" --use_rnn --device=\"cuda:0\" --batch_size=2 --mini_batch_size=1 \\\n",
    "--train_inner_steps=512 --train_episode=1024 --env_parallel_num=32 --alpha=5.0 --beta=0.05 --num_inequity=4 --use_inequity_averse_reward\n",
    "! python main.py --exp_name=\"harvest_ppo_inequity_3_averse_reward\" --use_rnn --device=\"cuda:0\" --batch_size=2 --mini_batch_size=1 \\\n",
    "--train_inner_steps=512 --train_episode=1024 --env_parallel_num=32 --alpha=5.0 --beta=0.05 --num_inequity=3 --use_inequity_averse_reward\n",
    "! python main.py --exp_name=\"harvest_ppo_inequity_2_averse_reward\" --use_rnn --device=\"cuda:0\" --batch_size=2 --mini_batch_size=1 \\\n",
    "--train_inner_steps=512 --train_episode=1024 --env_parallel_num=32 --alpha=5.0 --beta=0.05 --num_inequity=2 --use_inequity_averse_reward"
   ]
  },
  {
   "cell_type": "markdown",
   "metadata": {},
   "source": [
    "## Cloud"
   ]
  },
  {
   "cell_type": "code",
   "execution_count": null,
   "metadata": {},
   "outputs": [],
   "source": [
    "# cleanup schelling\n",
    "! nohup time python main.py --exp_name=\"clean_up_ppo_inequity_4_averse_reward\" --use_rnn --device=\"cuda:2\" --batch_size=2 \\\n",
    "--mini_batch_size=1 --train_inner_steps=512 --train_episode=1024 --env_parallel_num=32 --alpha=5.0 --beta=0.05 --num_inequity=4 \\\n",
    "--use_inequity_averse_reward > logs/clean_up_ppo_inequity_4_averse_reward.txt 2>&1 &\n",
    "! nohup time python main.py --exp_name=\"clean_up_ppo_inequity_3_averse_reward\" --use_rnn --device=\"cuda:2\" --batch_size=2 \\\n",
    "--mini_batch_size=1 --train_inner_steps=512 --train_episode=1024 --env_parallel_num=32 --alpha=5.0 --beta=0.05 --num_inequity=3 \\\n",
    "--use_inequity_averse_reward > logs/clean_up_ppo_inequity_3_averse_reward.txt 2>&1 &\n",
    "! nohup time python main.py --exp_name=\"clean_up_ppo_inequity_2_averse_reward\" --use_rnn --device=\"cuda:2\" --batch_size=2 \\\n",
    "--mini_batch_size=1 --train_inner_steps=512 --train_episode=1024 --env_parallel_num=32 --alpha=5.0 --beta=0.05 --num_inequity=2 \\\n",
    "--use_inequity_averse_reward > logs/clean_up_ppo_inequity_2_averse_reward.txt 2>&1 &\n",
    "\n",
    "# harvest schelling\n",
    "! nohup time python main.py --exp_name=\"harvest_ppo_inequity_4_averse_reward\" --use_rnn --device=\"cuda:3\" --batch_size=2 \\\n",
    "--mini_batch_size=1 --train_inner_steps=512 --train_episode=1024 --env_parallel_num=32 --alpha=5.0 --beta=0.05 \\\n",
    "--num_inequity=4 --use_inequity_averse_reward > logs/harvest_ppo_inequity_4_averse_reward.txt 2>&1 &\n",
    "! nohup time python main.py --exp_name=\"harvest_ppo_inequity_3_averse_reward\" --use_rnn --device=\"cuda:3\" --batch_size=2 \\\n",
    "--mini_batch_size=1 --train_inner_steps=512 --train_episode=1024 --env_parallel_num=32 --alpha=5.0 --beta=0.05 \\\n",
    "--num_inequity=3 --use_inequity_averse_reward > logs/harvest_ppo_inequity_3_averse_reward.txt 2>&1 &\n",
    "! nohup time python main.py --exp_name=\"harvest_ppo_inequity_2_averse_reward\" --use_rnn --device=\"cuda:3\" --batch_size=2 \\\n",
    "--mini_batch_size=1 --train_inner_steps=512 --train_episode=1024 --env_parallel_num=32 --alpha=5.0 --beta=0.05 \\\n",
    "--num_inequity=2 --use_inequity_averse_reward > logs/harvest_ppo_inequity_2_averse_reward.txt 2>&1 &\n"
   ]
  },
  {
   "cell_type": "markdown",
   "metadata": {},
   "source": [
    "## Optimized"
   ]
  },
  {
   "cell_type": "code",
   "execution_count": null,
   "metadata": {},
   "outputs": [],
   "source": [
    "# cleanup long\n",
    "! nohup time python main.py --exp_name=\"clean_up_ppo_selfish_agent_long\" --use_rnn --device=\"cuda:2\" --batch_size=128 \\\n",
    "--mini_batch_size=64 --train_inner_steps=1000 --train_episode=4096 --env_parallel_num=16 \\\n",
    "--save-freq=512  > logs/clean_up_ppo_selfish_agent_long.txt 2>&1 &\n",
    "! nohup time python main.py --exp_name=\"clean_up_ppo_collective_reward_long\" --use_rnn --device=\"cuda:2\" --batch_size=128 \\\n",
    "--mini_batch_size=64 --train_inner_steps=1000 --train_episode=4096 --env_parallel_num=16 \\\n",
    "--save-freq=512 --use_collective_reward > logs/clean_up_ppo_collective_reward_long.txt 2>&1 &\n",
    "! nohup time python main.py --exp_name=\"clean_up_ppo_inequity_averse_reward_long\" --use_rnn --device=\"cuda:2\" --batch_size=128 \\\n",
    "--mini_batch_size=64 --train_inner_steps=1000 --train_episode=4096 --env_parallel_num=16 --alpha=5.0 --beta=0.05 \\\n",
    "--save-freq=512 --use_inequity_averse_reward > logs/clean_up_ppo_inequity_averse_reward_long.txt 2>&1 &\n",
    "\n",
    "# harvest long\n",
    "! nohup time python main.py --exp_name=\"harvest_ppo_selfish_agent_long\" --use_rnn --device=\"cuda:3\" --batch_size=128 \\\n",
    "--mini_batch_size=64 --train_inner_steps=1000 --train_episode=4096 --env_parallel_num=16 \\\n",
    "--save-freq=512  > logs/harvest_ppo_selfish_agent_long.txt 2>&1 &\n",
    "! nohup time python main.py --exp_name=\"harvest_ppo_collective_reward_long\" --use_rnn --device=\"cuda:3\" --batch_size=128 \\\n",
    "--mini_batch_size=64 --train_inner_steps=1000 --train_episode=4096 --env_parallel_num=16 \\\n",
    "--save-freq=512 --use_collective_reward > logs/harvest_ppo_collective_reward_long.txt 2>&1 &\n",
    "! nohup time python main.py --exp_name=\"harvest_ppo_inequity_averse_reward_long\" --use_rnn --device=\"cuda:3\" --batch_size=128 \\\n",
    "--mini_batch_size=64 --train_inner_steps=1000 --train_episode=4096 --env_parallel_num=16 --alpha=5.0 --beta=0.05 \\\n",
    "--save-freq=512 --use_inequity_averse_reward > logs/harvest_ppo_inequity_averse_reward_long.txt 2>&1 &\n"
   ]
  },
  {
   "cell_type": "markdown",
   "metadata": {},
   "source": [
    "## Optimized Schelling"
   ]
  },
  {
   "cell_type": "code",
   "execution_count": null,
   "metadata": {},
   "outputs": [],
   "source": [
    "# cleanup schelling long\n",
    "! nohup time python main.py --exp_name=\"clean_up_ppo_inequity_4_averse_reward_long\" --use_rnn --device=\"cuda:2\" --batch_size=128 \\\n",
    "--mini_batch_size=64 --train_inner_steps=1000 --train_episode=4096 --env_parallel_num=16 --alpha=5.0 --beta=0.05 --num_inequity=4 \\\n",
    "--save-freq=512  --use_inequity_averse_reward > logs/clean_up_ppo_inequity_4_averse_reward_long.txt 2>&1 &\n",
    "! nohup time python main.py --exp_name=\"clean_up_ppo_inequity_3_averse_reward_long\" --use_rnn --device=\"cuda:2\" --batch_size=128 \\\n",
    "--mini_batch_size=64 --train_inner_steps=1000 --train_episode=4096 --env_parallel_num=16 --alpha=5.0 --beta=0.05 --num_inequity=3 \\\n",
    "--save-freq=512  --use_inequity_averse_reward > logs/clean_up_ppo_inequity_3_averse_reward_long.txt 2>&1 &\n",
    "! nohup time python main.py --exp_name=\"clean_up_ppo_inequity_2_averse_reward_long\" --use_rnn --device=\"cuda:2\" --batch_size=128 \\\n",
    "--mini_batch_size=64 --train_inner_steps=1000 --train_episode=4096 --env_parallel_num=16 --alpha=5.0 --beta=0.05 --num_inequity=2 \\\n",
    "--save-freq=512 --use_inequity_averse_reward > logs/clean_up_ppo_inequity_2_averse_reward_long.txt 2>&1 &\n",
    "\n",
    "# harvest schelling long\n",
    "! nohup time python main.py --exp_name=\"harvest_ppo_inequity_4_averse_reward_long\" --use_rnn --device=\"cuda:3\" --batch_size=128 \\\n",
    "--mini_batch_size=64 --train_inner_steps=1000 --train_episode=4096 --env_parallel_num=16 --alpha=5.0 --beta=0.05 \\\n",
    "--save-freq=512 --num_inequity=4 --use_inequity_averse_reward > logs/harvest_ppo_inequity_4_averse_reward_long.txt 2>&1 &\n",
    "! nohup time python main.py --exp_name=\"harvest_ppo_inequity_3_averse_reward_long\" --use_rnn --device=\"cuda:3\" --batch_size=128 \\\n",
    "--mini_batch_size=64 --train_inner_steps=1000 --train_episode=4096 --env_parallel_num=16 --alpha=5.0 --beta=0.05 \\\n",
    "--save-freq=512 --num_inequity=3 --use_inequity_averse_reward > logs/harvest_ppo_inequity_3_averse_reward_long.txt 2>&1 &\n",
    "! nohup time python main.py --exp_name=\"harvest_ppo_inequity_2_averse_reward_long\" --use_rnn --device=\"cuda:3\" --batch_size=128 \\\n",
    "--mini_batch_size=64 --train_inner_steps=1000 --train_episode=4096 --env_parallel_num=16 --alpha=5.0 --beta=0.05 \\\n",
    "--save-freq=512 --num_inequity=2 --use_inequity_averse_reward > logs/harvest_ppo_inequity_2_averse_reward_long.txt 2>&1 &"
   ]
  }
 ],
 "metadata": {
  "kernelspec": {
   "display_name": "ift6390",
   "language": "python",
   "name": "python3"
  },
  "language_info": {
   "codemirror_mode": {
    "name": "ipython",
    "version": 3
   },
   "file_extension": ".py",
   "mimetype": "text/x-python",
   "name": "python",
   "nbconvert_exporter": "python",
   "pygments_lexer": "ipython3",
   "version": "3.9.18"
  }
 },
 "nbformat": 4,
 "nbformat_minor": 2
}
